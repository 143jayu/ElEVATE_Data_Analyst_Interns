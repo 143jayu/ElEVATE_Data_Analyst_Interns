{
 "cells": [
  {
   "cell_type": "code",
   "execution_count": 121,
   "id": "c894bcbe",
   "metadata": {},
   "outputs": [],
   "source": [
    "import pandas as pd\n",
    "import numpy as np"
   ]
  },
  {
   "cell_type": "markdown",
   "id": "95888ae5",
   "metadata": {},
   "source": [
    "Load the dataset"
   ]
  },
  {
   "cell_type": "code",
   "execution_count": 122,
   "id": "e5697b62",
   "metadata": {},
   "outputs": [],
   "source": [
    "df = pd.read_csv('Customer_Personality_Analysis.csv', sep='\\t')"
   ]
  },
  {
   "cell_type": "markdown",
   "id": "7bdef95a",
   "metadata": {},
   "source": [
    "1. Handle missing values"
   ]
  },
  {
   "cell_type": "code",
   "execution_count": 123,
   "id": "759f3f87",
   "metadata": {},
   "outputs": [],
   "source": [
    "df['Income'] = df['Income'].replace(0, np.nan)  # Replace 0s with NaN\n",
    "df['Income'] = df['Income'].fillna(df['Income'].median())"
   ]
  },
  {
   "cell_type": "markdown",
   "id": "399bdd53",
   "metadata": {},
   "source": [
    "2. Remove duplicates"
   ]
  },
  {
   "cell_type": "code",
   "execution_count": 124,
   "id": "537e9375",
   "metadata": {},
   "outputs": [],
   "source": [
    "df = df.drop_duplicates()"
   ]
  },
  {
   "cell_type": "markdown",
   "id": "5e4afbd0",
   "metadata": {},
   "source": [
    "3. Standardize text values"
   ]
  },
  {
   "cell_type": "code",
   "execution_count": 125,
   "id": "9c536343",
   "metadata": {},
   "outputs": [],
   "source": [
    "education_mapping = {\n",
    "    'Graduation': 'Graduate',\n",
    "    'PhD': 'Postgraduate',\n",
    "    'Master': 'Postgraduate',\n",
    "    '2n Cycle': 'Undergraduate',\n",
    "    'Basic': 'Undergraduate'\n",
    "}\n",
    "df['Education'] = df['Education'].map(education_mapping).fillna(df['Education'])\n",
    "\n",
    "marital_status_mapping = {\n",
    "    'Married': 'Partner',\n",
    "    'Together': 'Partner',\n",
    "    'Divorced': 'Single',\n",
    "    'Widow': 'Single',\n",
    "    'Alone': 'Single',\n",
    "    'Absurd': 'Single',\n",
    "    'YOLO': 'Single'\n",
    "}\n",
    "df['Marital_Status'] = df['Marital_Status'].map(marital_status_mapping).fillna(df['Marital_Status'])\n"
   ]
  },
  {
   "cell_type": "markdown",
   "id": "e712c056",
   "metadata": {},
   "source": [
    "4. Convert date format"
   ]
  },
  {
   "cell_type": "code",
   "execution_count": 126,
   "id": "29b9e11d",
   "metadata": {},
   "outputs": [],
   "source": [
    "df['Dt_Customer'] = pd.to_datetime(df['Dt_Customer'], format='%d-%m-%Y')"
   ]
  },
  {
   "cell_type": "markdown",
   "id": "f33bac81",
   "metadata": {},
   "source": [
    "5. Rename columns"
   ]
  },
  {
   "cell_type": "code",
   "execution_count": 127,
   "id": "ecffceac",
   "metadata": {},
   "outputs": [],
   "source": [
    "df.columns = df.columns.str.lower()\n"
   ]
  },
  {
   "cell_type": "markdown",
   "id": "01758597",
   "metadata": {},
   "source": [
    "6. Create new features (BEFORE converting to categorical)"
   ]
  },
  {
   "cell_type": "code",
   "execution_count": 128,
   "id": "95748869",
   "metadata": {},
   "outputs": [],
   "source": [
    "current_year = 2025  # From problem context\n",
    "df['age'] = current_year - df['year_birth']\n",
    "df['total_children'] = df['kidhome'] + df['teenhome']\n",
    "df['total_spent'] = df[['mntwines', 'mntfruits', 'mntmeatproducts', \n",
    "                       'mntfishproducts', 'mntsweetproducts', 'mntgoldprods']].sum(axis=1)\n"
   ]
  },
  {
   "cell_type": "markdown",
   "id": "58d88833",
   "metadata": {},
   "source": [
    "7. Fix data types (convert to categorical AFTER creating new features)"
   ]
  },
  {
   "cell_type": "code",
   "execution_count": 129,
   "id": "88b74bbe",
   "metadata": {},
   "outputs": [],
   "source": [
    "df['kidhome'] = df['kidhome'].astype('category')\n",
    "df['teenhome'] = df['teenhome'].astype('category')\n",
    "df['total_children'] = df['total_children'].astype('category')\n",
    "df['year_birth'] = df['year_birth'].astype(int)\n"
   ]
  },
  {
   "cell_type": "markdown",
   "id": "871b7877",
   "metadata": {},
   "source": [
    "8. Handle outliers"
   ]
  },
  {
   "cell_type": "code",
   "execution_count": 130,
   "id": "de31d496",
   "metadata": {},
   "outputs": [],
   "source": [
    "df = df[df['year_birth'] > 1900]  # Remove invalid birth years"
   ]
  },
  {
   "cell_type": "markdown",
   "id": "833f10f0",
   "metadata": {},
   "source": [
    "9. Remove constant columns"
   ]
  },
  {
   "cell_type": "code",
   "execution_count": 131,
   "id": "936fd276",
   "metadata": {},
   "outputs": [],
   "source": [
    "df = df.drop(columns=['z_costcontact', 'z_revenue'])\n"
   ]
  },
  {
   "cell_type": "markdown",
   "id": "13286398",
   "metadata": {},
   "source": [
    "10. Reset index"
   ]
  },
  {
   "cell_type": "code",
   "execution_count": 132,
   "id": "948ee8b2",
   "metadata": {},
   "outputs": [],
   "source": [
    "df = df.reset_index(drop=True)"
   ]
  },
  {
   "cell_type": "markdown",
   "id": "5591d021",
   "metadata": {},
   "source": [
    "Save cleaned data"
   ]
  },
  {
   "cell_type": "code",
   "execution_count": 133,
   "id": "aa4fd37c",
   "metadata": {},
   "outputs": [],
   "source": [
    "df.to_csv('Cleaned_Customer_Personality_Analysis.csv', index=False)"
   ]
  }
 ],
 "metadata": {
  "kernelspec": {
   "display_name": "Python 3",
   "language": "python",
   "name": "python3"
  },
  "language_info": {
   "codemirror_mode": {
    "name": "ipython",
    "version": 3
   },
   "file_extension": ".py",
   "mimetype": "text/x-python",
   "name": "python",
   "nbconvert_exporter": "python",
   "pygments_lexer": "ipython3",
   "version": "3.12.4"
  }
 },
 "nbformat": 4,
 "nbformat_minor": 5
}
